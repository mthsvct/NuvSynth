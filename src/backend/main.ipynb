{
 "cells": [
  {
   "cell_type": "code",
   "execution_count": 21,
   "metadata": {},
   "outputs": [],
   "source": [
    "from provedor import Provedor\n",
    "from classe import Classe\n",
    "from servico import Servico\n",
    "from random import randint, uniform, choice\n",
    "import copy\n",
    "import json"
   ]
  },
  {
   "cell_type": "markdown",
   "metadata": {},
   "source": [
    "# Informações Importantes"
   ]
  },
  {
   "cell_type": "code",
   "execution_count": 22,
   "metadata": {},
   "outputs": [],
   "source": [
    "CPUS = [\n",
    "    'Intel Core 3', \n",
    "    'Intel Core 5', \n",
    "    'Intel Core 7', \n",
    "    'Intel Core 9', \n",
    "    'AMD Ryzen 5', \n",
    "    'AMD Ryzen 7', \n",
    "    'AMD Ryzen 9', \n",
    "    'Qualcomm Snapdragon', \n",
    "    'Apple A14 Bionic', \n",
    "    'Apple M1', \n",
    "    'AMD Threadripper',\n",
    "    'IBM POWER9' \n",
    "    ]"
   ]
  },
  {
   "cell_type": "code",
   "execution_count": 23,
   "metadata": {},
   "outputs": [],
   "source": [
    "CLASSES = [\n",
    "    'Computacao', \n",
    "    'Armazenamento',\n",
    "    'Memoria', \n",
    "    'AI + Machine Learning',\n",
    "    'Segurança', \n",
    "    'Análise de Dados e Estatíticas',\n",
    "    'Internet das Coisas', \n",
    "    'Redes',\n",
    "    'Big Data', \n",
    "    'Mídia' \n",
    "    ]"
   ]
  },
  {
   "cell_type": "code",
   "execution_count": 24,
   "metadata": {},
   "outputs": [],
   "source": [
    "RAMS = [ (2**x) for x in range(1, 10) ]"
   ]
  },
  {
   "cell_type": "markdown",
   "metadata": {},
   "source": [
    "# Testes"
   ]
  },
  {
   "cell_type": "code",
   "execution_count": 25,
   "metadata": {},
   "outputs": [
    {
     "name": "stdout",
     "output_type": "stream",
     "text": [
      "Id: 11\n",
      "Nome: Provedor - 11\n",
      "Classes: []\n"
     ]
    }
   ],
   "source": [
    "prov = Provedor()\n",
    "print(prov)"
   ]
  },
  {
   "cell_type": "code",
   "execution_count": 26,
   "metadata": {},
   "outputs": [
    {
     "name": "stdout",
     "output_type": "stream",
     "text": [
      "Categoria: Redes\n",
      "Servicos: []\n",
      "CPUs: ['AMD Ryzen 7', 'AMD Threadripper', 'Qualcomm Snapdragon', 'Intel Core 3']\n",
      "RAM: [4]\n",
      "HD: {'min': 82, 'max': 995}\n",
      "Disponibilidade: 20.53\n",
      "Tempo de Resposta: 60.03\n",
      "Custo: 861.23\n"
     ]
    }
   ],
   "source": [
    "classe = Classe(\n",
    "    categoria=choice(CLASSES),\n",
    "    qntSrvs=randint(1, 10),\n",
    "    cpus=list(set([choice(CPUS) for x in range(randint(1, 5))])),\n",
    "    ram=sorted(list(set([choice(RAMS) for x in range(randint(1, 5))]))),\n",
    "    minHD=randint(1, 100), \n",
    "    maxHD=randint(100, 1000),\n",
    "    disponibilidade=round(uniform(0.0, 100.0), 2),\n",
    "    tempResposta=round(uniform(0.0, 100.0), 2),\n",
    "    custo=round(uniform(0.0, 1000.0), 2)\n",
    ")\n",
    "print(classe)"
   ]
  },
  {
   "cell_type": "code",
   "execution_count": 27,
   "metadata": {},
   "outputs": [
    {
     "name": "stdout",
     "output_type": "stream",
     "text": [
      "Nome: Service-Redes\n",
      "CPU: Qualcomm Snapdragon\n",
      "RAM: 4\n",
      "HD: 244\n",
      "Disponibilidade: 35.9\n",
      "Tempo de Resposta: 41.12\n",
      "Custo: 345.18\n"
     ]
    }
   ],
   "source": [
    "ser = Servico(\n",
    "    name=f\"Service-{classe.categoria}\",\n",
    "    cpu=choice(classe.cpus),\n",
    "    ram=choice(classe.ram),\n",
    "    hd=randint(classe.hd['min'], classe.hd['max']),\n",
    "    disponibilidade=uniform(classe.disponibilidade, 100.0),\n",
    "    tempoResposta=uniform(0.0, classe.tempoResposta),\n",
    "    custo=uniform(0.0, classe.custo)\n",
    ")\n",
    "print(ser)"
   ]
  },
  {
   "cell_type": "code",
   "execution_count": 28,
   "metadata": {},
   "outputs": [
    {
     "data": {
      "text/plain": [
       "({'id': 60836,\n",
       "  'name': 'Service-Redes',\n",
       "  'taxa': 0,\n",
       "  'cpu': 'Qualcomm Snapdragon',\n",
       "  'ram': 4,\n",
       "  'hd': 244,\n",
       "  'disponibilidade': 35.9,\n",
       "  'tempoResposta': 41.12,\n",
       "  'custo': 345.18},\n",
       " {'qntSrvs': 10,\n",
       "  'categoria': 'Redes',\n",
       "  'servicos': [],\n",
       "  'taxaSemelhanca': 80,\n",
       "  'Naptidao': 1,\n",
       "  'geracoes': {'limite': 300, 'populacoes': [], 'qntGer': 0},\n",
       "  'ranking': [0,\n",
       "   0,\n",
       "   0,\n",
       "   0,\n",
       "   0,\n",
       "   0,\n",
       "   0,\n",
       "   0,\n",
       "   0,\n",
       "   0,\n",
       "   0,\n",
       "   0,\n",
       "   0,\n",
       "   0,\n",
       "   0,\n",
       "   0,\n",
       "   0,\n",
       "   0,\n",
       "   0,\n",
       "   0,\n",
       "   0,\n",
       "   0,\n",
       "   0,\n",
       "   0,\n",
       "   0,\n",
       "   0,\n",
       "   0,\n",
       "   0,\n",
       "   0,\n",
       "   0,\n",
       "   0,\n",
       "   0,\n",
       "   0,\n",
       "   0,\n",
       "   0,\n",
       "   0,\n",
       "   0,\n",
       "   0,\n",
       "   0,\n",
       "   0,\n",
       "   0,\n",
       "   0,\n",
       "   0,\n",
       "   0,\n",
       "   0,\n",
       "   0,\n",
       "   0,\n",
       "   0,\n",
       "   0,\n",
       "   0,\n",
       "   1,\n",
       "   1,\n",
       "   1,\n",
       "   1,\n",
       "   1,\n",
       "   1,\n",
       "   1,\n",
       "   1,\n",
       "   1,\n",
       "   1,\n",
       "   1,\n",
       "   1,\n",
       "   1,\n",
       "   1,\n",
       "   1,\n",
       "   1,\n",
       "   1,\n",
       "   1,\n",
       "   1,\n",
       "   1,\n",
       "   1,\n",
       "   1,\n",
       "   1,\n",
       "   1,\n",
       "   1,\n",
       "   1,\n",
       "   1,\n",
       "   1,\n",
       "   1,\n",
       "   1,\n",
       "   2,\n",
       "   2,\n",
       "   2,\n",
       "   2,\n",
       "   2,\n",
       "   2,\n",
       "   2,\n",
       "   2,\n",
       "   2,\n",
       "   2,\n",
       "   3,\n",
       "   3,\n",
       "   3,\n",
       "   3,\n",
       "   3,\n",
       "   4,\n",
       "   5,\n",
       "   6,\n",
       "   7,\n",
       "   8],\n",
       "  'casais': [],\n",
       "  'atrs': ['cpu', 'ram', 'hd', 'disponibilidade', 'tempoResposta', 'custo'],\n",
       "  'cpus': ['AMD Ryzen 7',\n",
       "   'AMD Threadripper',\n",
       "   'Qualcomm Snapdragon',\n",
       "   'Intel Core 3'],\n",
       "  'ram': [4],\n",
       "  'hd': {'min': 82, 'max': 995},\n",
       "  'disponibilidade': 20.53,\n",
       "  'tempoResposta': 60.03,\n",
       "  'custo': 861.23,\n",
       "  'modelo': <servico.Servico at 0x7fe6e5a979d0>},\n",
       " {'id': 11, 'name': 'Provedor - 11', 'classes': []})"
      ]
     },
     "execution_count": 28,
     "metadata": {},
     "output_type": "execute_result"
    }
   ],
   "source": [
    "ser.__dict__, classe.__dict__, prov.__dict__"
   ]
  },
  {
   "cell_type": "markdown",
   "metadata": {},
   "source": [
    "# Seleção\n",
    "\n",
    "A seleção nada mais é do que a definição de quantidade de serviços que serão geradas, juntamente com as classes (juntamente com suas limitações). "
   ]
  },
  {
   "cell_type": "code",
   "execution_count": 29,
   "metadata": {},
   "outputs": [],
   "source": [
    "qntPrv = 10   # 5 provedores\n",
    "qntClss = 3\n",
    "qntSers = 9 # Cada classe terá 10 servicos"
   ]
  },
  {
   "cell_type": "code",
   "execution_count": 30,
   "metadata": {},
   "outputs": [],
   "source": [
    "def gerarClasseRandom(qntSers:int=10):\n",
    "    return Classe(\n",
    "        categoria=choice(CLASSES),\n",
    "        qntSrvs=qntSers,\n",
    "        cpus=list(set([choice(CPUS) for x in range(randint(1, 5))])),\n",
    "        ram=sorted(list(set([choice(RAMS) for x in range(randint(1, 5))]))),\n",
    "        minHD=randint(1, 100),\n",
    "        maxHD=randint(100, 1000),\n",
    "        disponibilidade=round(uniform(0.0, 100.0), 2),\n",
    "        tempResposta=round(uniform(0, 100.0), 2),\n",
    "        custo=round(uniform(0.0, 1000.0), 2)\n",
    "    )"
   ]
  },
  {
   "cell_type": "code",
   "execution_count": 31,
   "metadata": {},
   "outputs": [],
   "source": [
    "clsSel = [ gerarClasseRandom() for _ in range(qntClss)]"
   ]
  },
  {
   "cell_type": "code",
   "execution_count": 32,
   "metadata": {},
   "outputs": [
    {
     "data": {
      "text/plain": [
       "{'categoria': 'Big Data',\n",
       " 'servicos': [],\n",
       " 'limites': {'cpus': ['Intel Core 3'],\n",
       "  'ram': [16, 512],\n",
       "  'hd': {'min': 49, 'max': 448},\n",
       "  'disponibilidade': 10.83,\n",
       "  'tempoResposta': 41.64,\n",
       "  'custo': 426.36}}"
      ]
     },
     "execution_count": 32,
     "metadata": {},
     "output_type": "execute_result"
    }
   ],
   "source": [
    "clsSel[0].dicio()"
   ]
  },
  {
   "cell_type": "code",
   "execution_count": 33,
   "metadata": {},
   "outputs": [
    {
     "name": "stdout",
     "output_type": "stream",
     "text": [
      "Categoria: Big Data\n",
      "Servicos: []\n",
      "CPUs: ['Intel Core 3']\n",
      "RAM: [16, 512]\n",
      "HD: {'min': 49, 'max': 448}\n",
      "Disponibilidade: 10.83\n",
      "Tempo de Resposta: 41.64\n",
      "Custo: 426.36 \n",
      "\n",
      "\n",
      "Categoria: Redes\n",
      "Servicos: []\n",
      "CPUs: ['IBM POWER9', 'Intel Core 5', 'Apple M1', 'Intel Core 9', 'Intel Core 3']\n",
      "RAM: [4, 8, 32, 64, 512]\n",
      "HD: {'min': 94, 'max': 589}\n",
      "Disponibilidade: 29.63\n",
      "Tempo de Resposta: 75.72\n",
      "Custo: 192.46 \n",
      "\n",
      "\n",
      "Categoria: Segurança\n",
      "Servicos: []\n",
      "CPUs: ['Intel Core 9', 'AMD Threadripper']\n",
      "RAM: [2, 16, 32, 128]\n",
      "HD: {'min': 49, 'max': 106}\n",
      "Disponibilidade: 31.04\n",
      "Tempo de Resposta: 39.5\n",
      "Custo: 641.98 \n",
      "\n",
      "\n"
     ]
    }
   ],
   "source": [
    "for i in clsSel: print(i, '\\n\\n')"
   ]
  },
  {
   "cell_type": "markdown",
   "metadata": {},
   "source": [
    "# Gerador"
   ]
  },
  {
   "cell_type": "code",
   "execution_count": 34,
   "metadata": {},
   "outputs": [],
   "source": [
    "def gerar(clsSel:list, qntPrv:int=5, qntSer:int=10):\n",
    "    # Esta Função é apenas para testes.\n",
    "    prvs = [ Provedor() for _ in range(qntPrv) ]\n",
    "    for i in prvs: i.classes = [ copy.deepcopy(x) for x in clsSel ]\n",
    "    for i in prvs:\n",
    "        for j in i.classes:\n",
    "            j.qntSrvs = qntSer\n",
    "    \n",
    "    for i in prvs: #.......... Para cada provedor\n",
    "        for j in i.classes: #. Para cada classe que está no provedor\n",
    "            j.gerar() #....... Gera os servicos da classe\n",
    "    \n",
    "    return prvs"
   ]
  },
  {
   "cell_type": "code",
   "execution_count": 35,
   "metadata": {},
   "outputs": [],
   "source": [
    "prvs = gerar(clsSel, qntPrv, qntSers)"
   ]
  },
  {
   "cell_type": "code",
   "execution_count": 36,
   "metadata": {},
   "outputs": [],
   "source": [
    "prvs[0].classes[0].categoria = \"Teste\""
   ]
  },
  {
   "cell_type": "code",
   "execution_count": 37,
   "metadata": {},
   "outputs": [
    {
     "name": "stdout",
     "output_type": "stream",
     "text": [
      "Categoria: Big Data\n",
      "Servicos: []\n",
      "CPUs: ['Intel Core 3']\n",
      "RAM: [16, 512]\n",
      "HD: {'min': 49, 'max': 448}\n",
      "Disponibilidade: 10.83\n",
      "Tempo de Resposta: 41.64\n",
      "Custo: 426.36 \n",
      "\n",
      "\n",
      "Categoria: Redes\n",
      "Servicos: []\n",
      "CPUs: ['IBM POWER9', 'Intel Core 5', 'Apple M1', 'Intel Core 9', 'Intel Core 3']\n",
      "RAM: [4, 8, 32, 64, 512]\n",
      "HD: {'min': 94, 'max': 589}\n",
      "Disponibilidade: 29.63\n",
      "Tempo de Resposta: 75.72\n",
      "Custo: 192.46 \n",
      "\n",
      "\n",
      "Categoria: Segurança\n",
      "Servicos: []\n",
      "CPUs: ['Intel Core 9', 'AMD Threadripper']\n",
      "RAM: [2, 16, 32, 128]\n",
      "HD: {'min': 49, 'max': 106}\n",
      "Disponibilidade: 31.04\n",
      "Tempo de Resposta: 39.5\n",
      "Custo: 641.98 \n",
      "\n",
      "\n"
     ]
    }
   ],
   "source": [
    "for x in clsSel:\n",
    "    print(x, '\\n\\n')"
   ]
  },
  {
   "cell_type": "code",
   "execution_count": 38,
   "metadata": {},
   "outputs": [
    {
     "name": "stdout",
     "output_type": "stream",
     "text": [
      "Nome: Service-Big Data\n",
      "CPU: Intel Core 3\n",
      "RAM: 512\n",
      "HD: 68\n",
      "Disponibilidade: 99.58\n",
      "Tempo de Resposta: 2.07\n",
      "Custo: 6.53\n"
     ]
    }
   ],
   "source": [
    "print(prvs[5].classes[0].servicos[7])"
   ]
  },
  {
   "cell_type": "code",
   "execution_count": null,
   "metadata": {},
   "outputs": [],
   "source": []
  }
 ],
 "metadata": {
  "kernelspec": {
   "display_name": "Python 3",
   "language": "python",
   "name": "python3"
  },
  "language_info": {
   "codemirror_mode": {
    "name": "ipython",
    "version": 3
   },
   "file_extension": ".py",
   "mimetype": "text/x-python",
   "name": "python",
   "nbconvert_exporter": "python",
   "pygments_lexer": "ipython3",
   "version": "3.8.10"
  },
  "orig_nbformat": 4
 },
 "nbformat": 4,
 "nbformat_minor": 2
}
