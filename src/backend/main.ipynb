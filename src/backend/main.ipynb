{
 "cells": [
  {
   "cell_type": "code",
   "execution_count": 1,
   "metadata": {},
   "outputs": [],
   "source": [
    "from provedor import Provedor\n",
    "from classe import Classe\n",
    "from servico import Servico\n",
    "from random import randint, uniform, choice\n",
    "import copy\n",
    "import json"
   ]
  },
  {
   "cell_type": "markdown",
   "metadata": {},
   "source": [
    "# Informações Importantes"
   ]
  },
  {
   "cell_type": "code",
   "execution_count": 2,
   "metadata": {},
   "outputs": [],
   "source": [
    "CPUS = [\n",
    "    'Intel Core 3', \n",
    "    'Intel Core 5', \n",
    "    'Intel Core 7', \n",
    "    'Intel Core 9', \n",
    "    'AMD Ryzen 5', \n",
    "    'AMD Ryzen 7', \n",
    "    'AMD Ryzen 9', \n",
    "    'Qualcomm Snapdragon', \n",
    "    'Apple A14 Bionic', \n",
    "    'Apple M1', \n",
    "    'AMD Threadripper',\n",
    "    'IBM POWER9' \n",
    "    ]"
   ]
  },
  {
   "cell_type": "code",
   "execution_count": 3,
   "metadata": {},
   "outputs": [],
   "source": [
    "CLASSES = [\n",
    "    'Computacao', \n",
    "    'Armazenamento',\n",
    "    'Memoria', \n",
    "    'AI + Machine Learning',\n",
    "    'Segurança', \n",
    "    'Análise de Dados e Estatíticas',\n",
    "    'Internet das Coisas', \n",
    "    'Redes',\n",
    "    'Big Data', \n",
    "    'Mídia' \n",
    "    ]"
   ]
  },
  {
   "cell_type": "code",
   "execution_count": 4,
   "metadata": {},
   "outputs": [],
   "source": [
    "RAMS = [ (2**x) for x in range(1, 10) ]"
   ]
  },
  {
   "cell_type": "markdown",
   "metadata": {},
   "source": [
    "# Testes"
   ]
  },
  {
   "cell_type": "code",
   "execution_count": 5,
   "metadata": {},
   "outputs": [
    {
     "name": "stdout",
     "output_type": "stream",
     "text": [
      "Id: 0\n",
      "Nome: Provedor - 0\n",
      "Classes: []\n"
     ]
    }
   ],
   "source": [
    "prov = Provedor()\n",
    "print(prov)"
   ]
  },
  {
   "cell_type": "code",
   "execution_count": 6,
   "metadata": {},
   "outputs": [
    {
     "name": "stdout",
     "output_type": "stream",
     "text": [
      "p:  [50, 30, 10, 5, 1, 1, 1, 1, 1]\n",
      "Categoria: Armazenamento\n",
      "Servicos: []\n",
      "CPUs: ['Apple A14 Bionic', 'Apple M1', 'AMD Ryzen 5', 'AMD Ryzen 9', 'Qualcomm Snapdragon']\n",
      "RAM: [32, 64]\n",
      "HD: {'min': 58, 'max': 418}\n",
      "Disponibilidade: 5.83\n",
      "Tempo de Resposta: 93.45\n",
      "Custo: 927.56\n"
     ]
    }
   ],
   "source": [
    "classe = Classe(\n",
    "    categoria=choice(CLASSES),\n",
    "    qntSrvs=randint(1, 10),\n",
    "    cpus=list(set([choice(CPUS) for x in range(randint(1, 5))])),\n",
    "    ram=sorted(list(set([choice(RAMS) for x in range(randint(1, 5))]))),\n",
    "    minHD=randint(1, 100), \n",
    "    maxHD=randint(100, 1000),\n",
    "    disponibilidade=round(uniform(0.0, 100.0), 2),\n",
    "    tempResposta=round(uniform(0.0, 100.0), 2),\n",
    "    custo=round(uniform(0.0, 1000.0), 2)\n",
    ")\n",
    "print(classe)"
   ]
  },
  {
   "cell_type": "code",
   "execution_count": 7,
   "metadata": {},
   "outputs": [
    {
     "name": "stdout",
     "output_type": "stream",
     "text": [
      "Nome: Service-Armazenamento\n",
      "CPU: AMD Ryzen 5\n",
      "RAM: 32\n",
      "HD: 302\n",
      "Disponibilidade: 74.51\n",
      "Tempo de Resposta: 16.63\n",
      "Custo: 146.37\n"
     ]
    }
   ],
   "source": [
    "ser = Servico(\n",
    "    name=f\"Service-{classe.categoria}\",\n",
    "    cpu=choice(classe.cpus),\n",
    "    ram=choice(classe.ram),\n",
    "    hd=randint(classe.hd['min'], classe.hd['max']),\n",
    "    disponibilidade=uniform(classe.disponibilidade, 100.0),\n",
    "    tempoResposta=uniform(0.0, classe.tempoResposta),\n",
    "    custo=uniform(0.0, classe.custo)\n",
    ")\n",
    "print(ser)"
   ]
  },
  {
   "cell_type": "code",
   "execution_count": 8,
   "metadata": {},
   "outputs": [
    {
     "data": {
      "text/plain": [
       "({'id': 1,\n",
       "  'name': 'Service-Armazenamento',\n",
       "  'taxa': 0,\n",
       "  'cpu': 'AMD Ryzen 5',\n",
       "  'ram': 32,\n",
       "  'hd': 302,\n",
       "  'disponibilidade': 74.51,\n",
       "  'tempoResposta': 16.63,\n",
       "  'custo': 146.37},\n",
       " {'qntSrvs': 10,\n",
       "  'categoria': 'Armazenamento',\n",
       "  'servicos': [],\n",
       "  'taxaSemelhanca': 80,\n",
       "  'Naptidao': 1,\n",
       "  'geracoes': {'limite': 300, 'populacoes': [], 'qntGer': 0},\n",
       "  'ranking': [0,\n",
       "   0,\n",
       "   0,\n",
       "   0,\n",
       "   0,\n",
       "   0,\n",
       "   0,\n",
       "   0,\n",
       "   0,\n",
       "   0,\n",
       "   0,\n",
       "   0,\n",
       "   0,\n",
       "   0,\n",
       "   0,\n",
       "   0,\n",
       "   0,\n",
       "   0,\n",
       "   0,\n",
       "   0,\n",
       "   0,\n",
       "   0,\n",
       "   0,\n",
       "   0,\n",
       "   0,\n",
       "   0,\n",
       "   0,\n",
       "   0,\n",
       "   0,\n",
       "   0,\n",
       "   0,\n",
       "   0,\n",
       "   0,\n",
       "   0,\n",
       "   0,\n",
       "   0,\n",
       "   0,\n",
       "   0,\n",
       "   0,\n",
       "   0,\n",
       "   0,\n",
       "   0,\n",
       "   0,\n",
       "   0,\n",
       "   0,\n",
       "   0,\n",
       "   0,\n",
       "   0,\n",
       "   0,\n",
       "   0,\n",
       "   1,\n",
       "   1,\n",
       "   1,\n",
       "   1,\n",
       "   1,\n",
       "   1,\n",
       "   1,\n",
       "   1,\n",
       "   1,\n",
       "   1,\n",
       "   1,\n",
       "   1,\n",
       "   1,\n",
       "   1,\n",
       "   1,\n",
       "   1,\n",
       "   1,\n",
       "   1,\n",
       "   1,\n",
       "   1,\n",
       "   1,\n",
       "   1,\n",
       "   1,\n",
       "   1,\n",
       "   1,\n",
       "   1,\n",
       "   1,\n",
       "   1,\n",
       "   1,\n",
       "   1,\n",
       "   2,\n",
       "   2,\n",
       "   2,\n",
       "   2,\n",
       "   2,\n",
       "   2,\n",
       "   2,\n",
       "   2,\n",
       "   2,\n",
       "   2,\n",
       "   3,\n",
       "   3,\n",
       "   3,\n",
       "   3,\n",
       "   3,\n",
       "   4,\n",
       "   5,\n",
       "   6,\n",
       "   7,\n",
       "   8],\n",
       "  'casais': [],\n",
       "  'atrs': ['cpu', 'ram', 'hd', 'disponibilidade', 'tempoResposta', 'custo'],\n",
       "  'cpus': ['Apple A14 Bionic',\n",
       "   'Apple M1',\n",
       "   'AMD Ryzen 5',\n",
       "   'AMD Ryzen 9',\n",
       "   'Qualcomm Snapdragon'],\n",
       "  'ram': [32, 64],\n",
       "  'hd': {'min': 58, 'max': 418},\n",
       "  'disponibilidade': 5.83,\n",
       "  'tempoResposta': 93.45,\n",
       "  'custo': 927.56,\n",
       "  'modelo': <servico.Servico at 0x7f3c542348e0>},\n",
       " {'id': 0, 'name': 'Provedor - 0', 'classes': []})"
      ]
     },
     "execution_count": 8,
     "metadata": {},
     "output_type": "execute_result"
    }
   ],
   "source": [
    "ser.__dict__, classe.__dict__, prov.__dict__"
   ]
  },
  {
   "cell_type": "markdown",
   "metadata": {},
   "source": [
    "# Seleção\n",
    "\n",
    "A seleção nada mais é do que a definição de quantidade de serviços que serão geradas, juntamente com as classes (juntamente com suas limitações). "
   ]
  },
  {
   "cell_type": "code",
   "execution_count": 9,
   "metadata": {},
   "outputs": [],
   "source": [
    "qntPrv = 10   # 5 provedores\n",
    "qntClss = 3\n",
    "qntSers = 3 # Cada classe terá 10 servicos"
   ]
  },
  {
   "cell_type": "code",
   "execution_count": 10,
   "metadata": {},
   "outputs": [],
   "source": [
    "def gerarClasseRandom(qntSers:int=10):\n",
    "    return Classe(\n",
    "        categoria=choice(CLASSES),\n",
    "        qntSrvs=qntSers,\n",
    "        cpus=list(set([choice(CPUS) for x in range(randint(1, 5))])),\n",
    "        ram=sorted(list(set([choice(RAMS) for x in range(randint(1, 5))]))),\n",
    "        minHD=randint(1, 100),\n",
    "        maxHD=randint(100, 1000),\n",
    "        disponibilidade=round(uniform(0.0, 100.0), 2),\n",
    "        tempResposta=round(uniform(0, 100.0), 2),\n",
    "        custo=round(uniform(0.0, 1000.0), 2)\n",
    "    )"
   ]
  },
  {
   "cell_type": "code",
   "execution_count": 11,
   "metadata": {},
   "outputs": [
    {
     "name": "stdout",
     "output_type": "stream",
     "text": [
      "p:  [50, 30, 10, 5, 1, 1, 1, 1, 1]\n",
      "p:  [50, 30, 10, 5, 1, 1, 1, 1, 1]\n",
      "p:  [50, 30, 10, 5, 1, 1, 1, 1, 1]\n"
     ]
    }
   ],
   "source": [
    "clsSel = [ gerarClasseRandom() for _ in range(qntClss)]"
   ]
  },
  {
   "cell_type": "code",
   "execution_count": 12,
   "metadata": {},
   "outputs": [
    {
     "data": {
      "text/plain": [
       "{'categoria': 'Análise de Dados e Estatíticas', 'servicos': []}"
      ]
     },
     "execution_count": 12,
     "metadata": {},
     "output_type": "execute_result"
    }
   ],
   "source": [
    "clsSel[0].dicio()"
   ]
  },
  {
   "cell_type": "code",
   "execution_count": 13,
   "metadata": {},
   "outputs": [
    {
     "name": "stdout",
     "output_type": "stream",
     "text": [
      "Categoria: Análise de Dados e Estatíticas\n",
      "Servicos: []\n",
      "CPUs: ['Intel Core 3', 'Intel Core 7', 'Apple M1', 'AMD Ryzen 5', 'Qualcomm Snapdragon']\n",
      "RAM: [16, 128, 512]\n",
      "HD: {'min': 37, 'max': 895}\n",
      "Disponibilidade: 48.26\n",
      "Tempo de Resposta: 86.56\n",
      "Custo: 368.44 \n",
      "\n",
      "\n",
      "Categoria: Computacao\n",
      "Servicos: []\n",
      "CPUs: ['IBM POWER9', 'Apple A14 Bionic', 'Intel Core 9']\n",
      "RAM: [2, 256]\n",
      "HD: {'min': 60, 'max': 968}\n",
      "Disponibilidade: 26.85\n",
      "Tempo de Resposta: 28.03\n",
      "Custo: 875.63 \n",
      "\n",
      "\n",
      "Categoria: Memoria\n",
      "Servicos: []\n",
      "CPUs: ['Intel Core 3', 'Apple A14 Bionic', 'Intel Core 5', 'AMD Ryzen 9', 'Qualcomm Snapdragon']\n",
      "RAM: [4, 16, 32, 64]\n",
      "HD: {'min': 52, 'max': 340}\n",
      "Disponibilidade: 11.11\n",
      "Tempo de Resposta: 0.75\n",
      "Custo: 249.96 \n",
      "\n",
      "\n"
     ]
    }
   ],
   "source": [
    "for i in clsSel: print(i, '\\n\\n')"
   ]
  },
  {
   "cell_type": "markdown",
   "metadata": {},
   "source": [
    "# Gerador"
   ]
  },
  {
   "cell_type": "code",
   "execution_count": 14,
   "metadata": {},
   "outputs": [],
   "source": [
    "def gerar(clsSel:list, qntPrv:int=5, qntSer:int=10):\n",
    "    # Esta Função é apenas para testes.\n",
    "    prvs = [ Provedor() for _ in range(qntPrv) ]\n",
    "    for i in prvs: \n",
    "        i.classes = [ copy.deepcopy(x) for x in clsSel ]\n",
    "    \n",
    "    for i in prvs:\n",
    "        for j in i.classes:\n",
    "            j.qntSrvs = qntSer\n",
    "    \n",
    "    for i in prvs: #.......... Para cada provedor\n",
    "        for j in i.classes: #. Para cada classe que está no provedor\n",
    "            j.gerar() #....... Gera os servicos da classe\n",
    "    \n",
    "    return prvs"
   ]
  },
  {
   "cell_type": "code",
   "execution_count": 15,
   "metadata": {},
   "outputs": [
    {
     "ename": "IndexError",
     "evalue": "list index out of range",
     "output_type": "error",
     "traceback": [
      "\u001b[0;31m---------------------------------------------------------------------------\u001b[0m",
      "\u001b[0;31mIndexError\u001b[0m                                Traceback (most recent call last)",
      "\u001b[0;32m/tmp/ipykernel_9778/3663810835.py\u001b[0m in \u001b[0;36m<module>\u001b[0;34m\u001b[0m\n\u001b[0;32m----> 1\u001b[0;31m \u001b[0mprvs\u001b[0m \u001b[0;34m=\u001b[0m \u001b[0mgerar\u001b[0m\u001b[0;34m(\u001b[0m\u001b[0mclsSel\u001b[0m\u001b[0;34m,\u001b[0m \u001b[0mqntPrv\u001b[0m\u001b[0;34m,\u001b[0m \u001b[0mqntSers\u001b[0m\u001b[0;34m)\u001b[0m\u001b[0;34m\u001b[0m\u001b[0;34m\u001b[0m\u001b[0m\n\u001b[0m",
      "\u001b[0;32m/tmp/ipykernel_9778/727796766.py\u001b[0m in \u001b[0;36mgerar\u001b[0;34m(clsSel, qntPrv, qntSer)\u001b[0m\n\u001b[1;32m      9\u001b[0m     \u001b[0;32mfor\u001b[0m \u001b[0mi\u001b[0m \u001b[0;32min\u001b[0m \u001b[0mprvs\u001b[0m\u001b[0;34m:\u001b[0m \u001b[0;31m#.......... Para cada provedor\u001b[0m\u001b[0;34m\u001b[0m\u001b[0;34m\u001b[0m\u001b[0m\n\u001b[1;32m     10\u001b[0m         \u001b[0;32mfor\u001b[0m \u001b[0mj\u001b[0m \u001b[0;32min\u001b[0m \u001b[0mi\u001b[0m\u001b[0;34m.\u001b[0m\u001b[0mclasses\u001b[0m\u001b[0;34m:\u001b[0m \u001b[0;31m#. Para cada classe que está no provedor\u001b[0m\u001b[0;34m\u001b[0m\u001b[0;34m\u001b[0m\u001b[0m\n\u001b[0;32m---> 11\u001b[0;31m             \u001b[0mj\u001b[0m\u001b[0;34m.\u001b[0m\u001b[0mgerar\u001b[0m\u001b[0;34m(\u001b[0m\u001b[0;34m)\u001b[0m \u001b[0;31m#....... Gera os servicos da classe\u001b[0m\u001b[0;34m\u001b[0m\u001b[0;34m\u001b[0m\u001b[0m\n\u001b[0m\u001b[1;32m     12\u001b[0m \u001b[0;34m\u001b[0m\u001b[0m\n\u001b[1;32m     13\u001b[0m     \u001b[0;32mreturn\u001b[0m \u001b[0mprvs\u001b[0m\u001b[0;34m\u001b[0m\u001b[0;34m\u001b[0m\u001b[0m\n",
      "\u001b[0;32m~/Área de Trabalho/2023.1/TRABALHO DE CONCLUSAO DE CURSO II/NuvSynth/src/backend/classe.py\u001b[0m in \u001b[0;36mgerar\u001b[0;34m(self)\u001b[0m\n\u001b[1;32m     95\u001b[0m \u001b[0;34m\u001b[0m\u001b[0m\n\u001b[1;32m     96\u001b[0m             \u001b[0mself\u001b[0m\u001b[0;34m.\u001b[0m\u001b[0mselecao\u001b[0m\u001b[0;34m(\u001b[0m\u001b[0;34m)\u001b[0m \u001b[0;31m# Realiza a seleção proporcional ao ranking. Monta uma lista (casais)\u001b[0m\u001b[0;34m\u001b[0m\u001b[0;34m\u001b[0m\u001b[0m\n\u001b[0;32m---> 97\u001b[0;31m             \u001b[0mself\u001b[0m\u001b[0;34m.\u001b[0m\u001b[0mcrossover\u001b[0m\u001b[0;34m(\u001b[0m\u001b[0;34m)\u001b[0m \u001b[0;31m# Pega cada casal e realiza o cruzamento. Gera dois novos serviços.\u001b[0m\u001b[0;34m\u001b[0m\u001b[0;34m\u001b[0m\u001b[0m\n\u001b[0m\u001b[1;32m     98\u001b[0m             \u001b[0mself\u001b[0m\u001b[0;34m.\u001b[0m\u001b[0mmutacao\u001b[0m\u001b[0;34m(\u001b[0m\u001b[0;34m)\u001b[0m \u001b[0;31m# Sorteia um serviço, sorteia um atributo e altera o valor.\u001b[0m\u001b[0;34m\u001b[0m\u001b[0;34m\u001b[0m\u001b[0m\n\u001b[1;32m     99\u001b[0m \u001b[0;34m\u001b[0m\u001b[0m\n",
      "\u001b[0;32m~/Área de Trabalho/2023.1/TRABALHO DE CONCLUSAO DE CURSO II/NuvSynth/src/backend/classe.py\u001b[0m in \u001b[0;36mcrossover\u001b[0;34m(self)\u001b[0m\n\u001b[1;32m    160\u001b[0m             nv1 = Servico(\n\u001b[1;32m    161\u001b[0m                 \u001b[0mname\u001b[0m\u001b[0;34m=\u001b[0m\u001b[0;34mf\"Service-{self.categoria}\"\u001b[0m\u001b[0;34m,\u001b[0m\u001b[0;34m\u001b[0m\u001b[0;34m\u001b[0m\u001b[0m\n\u001b[0;32m--> 162\u001b[0;31m                 \u001b[0mcpu\u001b[0m\u001b[0;34m=\u001b[0m \u001b[0mself\u001b[0m\u001b[0;34m.\u001b[0m\u001b[0mservicos\u001b[0m\u001b[0;34m[\u001b[0m\u001b[0mi\u001b[0m\u001b[0;34m[\u001b[0m\u001b[0;36m0\u001b[0m\u001b[0;34m]\u001b[0m\u001b[0;34m]\u001b[0m\u001b[0;34m.\u001b[0m\u001b[0mcpu\u001b[0m\u001b[0;34m,\u001b[0m\u001b[0;34m\u001b[0m\u001b[0;34m\u001b[0m\u001b[0m\n\u001b[0m\u001b[1;32m    163\u001b[0m                 \u001b[0mram\u001b[0m\u001b[0;34m=\u001b[0m \u001b[0mself\u001b[0m\u001b[0;34m.\u001b[0m\u001b[0mservicos\u001b[0m\u001b[0;34m[\u001b[0m\u001b[0mi\u001b[0m\u001b[0;34m[\u001b[0m\u001b[0;36m1\u001b[0m\u001b[0;34m]\u001b[0m\u001b[0;34m]\u001b[0m\u001b[0;34m.\u001b[0m\u001b[0mram\u001b[0m\u001b[0;34m,\u001b[0m\u001b[0;34m\u001b[0m\u001b[0;34m\u001b[0m\u001b[0m\n\u001b[1;32m    164\u001b[0m                 \u001b[0mhd\u001b[0m\u001b[0;34m=\u001b[0m\u001b[0mself\u001b[0m\u001b[0;34m.\u001b[0m\u001b[0mservicos\u001b[0m\u001b[0;34m[\u001b[0m\u001b[0mi\u001b[0m\u001b[0;34m[\u001b[0m\u001b[0;36m0\u001b[0m\u001b[0;34m]\u001b[0m\u001b[0;34m]\u001b[0m\u001b[0;34m.\u001b[0m\u001b[0mhd\u001b[0m\u001b[0;34m,\u001b[0m\u001b[0;34m\u001b[0m\u001b[0;34m\u001b[0m\u001b[0m\n",
      "\u001b[0;31mIndexError\u001b[0m: list index out of range"
     ]
    },
    {
     "ename": "",
     "evalue": "",
     "output_type": "error",
     "traceback": [
      "\u001b[1;31mThe Kernel crashed while executing code in the the current cell or a previous cell. Please review the code in the cell(s) to identify a possible cause of the failure. Click <a href='https://aka.ms/vscodeJupyterKernelCrash'>here</a> for more info. View Jupyter <a href='command:jupyter.viewOutput'>log</a> for further details."
     ]
    }
   ],
   "source": [
    "prvs = gerar(clsSel, qntPrv, qntSers)"
   ]
  },
  {
   "cell_type": "code",
   "execution_count": null,
   "metadata": {},
   "outputs": [],
   "source": [
    "prvs[0].classes[0].categoria = \"Teste\""
   ]
  },
  {
   "cell_type": "code",
   "execution_count": null,
   "metadata": {},
   "outputs": [
    {
     "name": "stdout",
     "output_type": "stream",
     "text": [
      "Categoria: Internet das Coisas\n",
      "Servicos: []\n",
      "CPUs: ['IBM POWER9', 'AMD Threadripper', 'AMD Ryzen 9', 'Intel Core 3']\n",
      "RAM: [16, 64]\n",
      "HD: {'min': 29, 'max': 580}\n",
      "Disponibilidade: 23.54\n",
      "Tempo de Resposta: 81.25\n",
      "Custo: 758.72 \n",
      "\n",
      "\n",
      "Categoria: Redes\n",
      "Servicos: []\n",
      "CPUs: ['Apple A14 Bionic', 'Apple M1']\n",
      "RAM: [16]\n",
      "HD: {'min': 15, 'max': 887}\n",
      "Disponibilidade: 96.51\n",
      "Tempo de Resposta: 2.84\n",
      "Custo: 799.33 \n",
      "\n",
      "\n",
      "Categoria: Internet das Coisas\n",
      "Servicos: []\n",
      "CPUs: ['Qualcomm Snapdragon']\n",
      "RAM: [128, 256]\n",
      "HD: {'min': 52, 'max': 142}\n",
      "Disponibilidade: 85.37\n",
      "Tempo de Resposta: 56.73\n",
      "Custo: 395.63 \n",
      "\n",
      "\n"
     ]
    }
   ],
   "source": [
    "for x in clsSel:\n",
    "    print(x, '\\n\\n')"
   ]
  },
  {
   "cell_type": "code",
   "execution_count": null,
   "metadata": {},
   "outputs": [
    {
     "name": "stdout",
     "output_type": "stream",
     "text": [
      "Nome: Service-Internet das Coisas\n",
      "CPU: Intel Core 3\n",
      "RAM: 64\n",
      "HD: 320\n",
      "Disponibilidade: 93.67\n",
      "Tempo de Resposta: 70.17\n",
      "Custo: 5.04\n"
     ]
    }
   ],
   "source": [
    "print(prvs[5].classes[0].servicos[7])"
   ]
  },
  {
   "cell_type": "code",
   "execution_count": null,
   "metadata": {},
   "outputs": [],
   "source": []
  }
 ],
 "metadata": {
  "kernelspec": {
   "display_name": "Python 3",
   "language": "python",
   "name": "python3"
  },
  "language_info": {
   "codemirror_mode": {
    "name": "ipython",
    "version": 3
   },
   "file_extension": ".py",
   "mimetype": "text/x-python",
   "name": "python",
   "nbconvert_exporter": "python",
   "pygments_lexer": "ipython3",
   "version": "3.8.10"
  },
  "orig_nbformat": 4
 },
 "nbformat": 4,
 "nbformat_minor": 2
}
