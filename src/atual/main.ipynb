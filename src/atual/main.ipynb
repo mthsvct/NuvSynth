{
 "cells": [
  {
   "cell_type": "code",
   "execution_count": 1,
   "metadata": {},
   "outputs": [],
   "source": [
    "from provedor import Provedor\n",
    "from classe import Classe\n",
    "from servico import Servico\n",
    "from random import randint, uniform, choice\n",
    "import copy\n",
    "import json"
   ]
  },
  {
   "cell_type": "markdown",
   "metadata": {},
   "source": [
    "# Informações Importantes"
   ]
  },
  {
   "cell_type": "code",
   "execution_count": 2,
   "metadata": {},
   "outputs": [],
   "source": [
    "CPUS = [\n",
    "    'Intel Core 3', \n",
    "    'Intel Core 5', \n",
    "    'Intel Core 7', \n",
    "    'Intel Core 9', \n",
    "    'AMD Ryzen 5', \n",
    "    'AMD Ryzen 7', \n",
    "    'AMD Ryzen 9', \n",
    "    'Qualcomm Snapdragon', \n",
    "    'Apple A14 Bionic', \n",
    "    'Apple M1', \n",
    "    'AMD Threadripper',\n",
    "    'IBM POWER9' \n",
    "    ]"
   ]
  },
  {
   "cell_type": "code",
   "execution_count": 3,
   "metadata": {},
   "outputs": [],
   "source": [
    "CLASSES = [\n",
    "    'Computacao', \n",
    "    'Armazenamento',\n",
    "    'Memoria', \n",
    "    'AI + Machine Learning',\n",
    "    'Segurança', \n",
    "    'Análise de Dados e Estatíticas',\n",
    "    'Internet das Coisas', \n",
    "    'Redes',\n",
    "    'Big Data', \n",
    "    'Mídia' \n",
    "    ]"
   ]
  },
  {
   "cell_type": "code",
   "execution_count": 4,
   "metadata": {},
   "outputs": [],
   "source": [
    "RAMS = [ (2**x) for x in range(1, 10) ]"
   ]
  },
  {
   "cell_type": "markdown",
   "metadata": {},
   "source": [
    "# Testes"
   ]
  },
  {
   "cell_type": "code",
   "execution_count": 5,
   "metadata": {},
   "outputs": [
    {
     "name": "stdout",
     "output_type": "stream",
     "text": [
      "Id: 0\n",
      "Nome: Provedor - 0\n",
      "Classes: []\n"
     ]
    }
   ],
   "source": [
    "prov = Provedor()\n",
    "print(prov)"
   ]
  },
  {
   "cell_type": "code",
   "execution_count": 6,
   "metadata": {},
   "outputs": [
    {
     "name": "stdout",
     "output_type": "stream",
     "text": [
      "Categoria: Análise de Dados e Estatíticas\n",
      "Servicos: []\n",
      "CPUs: ['Intel Core 3']\n",
      "RAM: [8, 32, 64, 256]\n",
      "HD: {'min': 43, 'max': 701}\n",
      "Disponibilidade: 52.34\n",
      "Tempo de Resposta: 83.81\n",
      "Custo: 298.75\n"
     ]
    }
   ],
   "source": [
    "classe = Classe(\n",
    "    categoria=choice(CLASSES),\n",
    "    qntSrvs=randint(1, 10),\n",
    "    cpus=list(set([choice(CPUS) for x in range(randint(1, 5))])),\n",
    "    ram=sorted(list(set([choice(RAMS) for x in range(randint(1, 5))]))),\n",
    "    minHD=randint(1, 100), \n",
    "    maxHD=randint(100, 1000),\n",
    "    disponibilidade=round(uniform(0.0, 100.0), 2),\n",
    "    tempResposta=round(uniform(0.0, 100.0), 2),\n",
    "    custo=round(uniform(0.0, 1000.0), 2)\n",
    ")\n",
    "print(classe)"
   ]
  },
  {
   "cell_type": "code",
   "execution_count": 7,
   "metadata": {},
   "outputs": [
    {
     "name": "stdout",
     "output_type": "stream",
     "text": [
      "Nome: Service-Análise de Dados e Estatíticas\n",
      "CPU: Intel Core 3\n",
      "RAM: 256\n",
      "HD: 118\n",
      "Disponibilidade: 72.02\n",
      "Tempo de Resposta: 14.89\n",
      "Custo: 129.29\n"
     ]
    }
   ],
   "source": [
    "ser = Servico(\n",
    "    name=f\"Service-{classe.categoria}\",\n",
    "    cpu=choice(classe.cpus),\n",
    "    ram=choice(classe.ram),\n",
    "    hd=randint(classe.hd['min'], classe.hd['max']),\n",
    "    disponibilidade=uniform(classe.disponibilidade, 100.0),\n",
    "    tempoResposta=uniform(0.0, classe.tempoResposta),\n",
    "    custo=uniform(0.0, classe.custo)\n",
    ")\n",
    "print(ser)"
   ]
  },
  {
   "cell_type": "code",
   "execution_count": 8,
   "metadata": {},
   "outputs": [
    {
     "data": {
      "text/plain": [
       "({'id': 1,\n",
       "  'name': 'Service-Análise de Dados e Estatíticas',\n",
       "  'taxa': 0,\n",
       "  'cpu': 'Intel Core 3',\n",
       "  'ram': 256,\n",
       "  'hd': 118,\n",
       "  'disponibilidade': 72.02,\n",
       "  'tempoResposta': 14.89,\n",
       "  'custo': 129.29},\n",
       " {'qntSrvs': 1,\n",
       "  'categoria': 'Análise de Dados e Estatíticas',\n",
       "  'servicos': [],\n",
       "  'taxaSemelhanca': 80,\n",
       "  'Naptidao': 1,\n",
       "  'geracoes': {'limite': 300, 'populacoes': [], 'qntGer': 0},\n",
       "  'ranking': [0,\n",
       "   0,\n",
       "   0,\n",
       "   0,\n",
       "   0,\n",
       "   0,\n",
       "   0,\n",
       "   0,\n",
       "   0,\n",
       "   0,\n",
       "   0,\n",
       "   0,\n",
       "   0,\n",
       "   0,\n",
       "   0,\n",
       "   0,\n",
       "   0,\n",
       "   0,\n",
       "   0,\n",
       "   0,\n",
       "   0,\n",
       "   0,\n",
       "   0,\n",
       "   0,\n",
       "   0,\n",
       "   0,\n",
       "   0,\n",
       "   0,\n",
       "   0,\n",
       "   0,\n",
       "   0,\n",
       "   0,\n",
       "   0,\n",
       "   0,\n",
       "   0,\n",
       "   0,\n",
       "   0,\n",
       "   0,\n",
       "   0,\n",
       "   0,\n",
       "   0,\n",
       "   0,\n",
       "   0,\n",
       "   0,\n",
       "   0,\n",
       "   0,\n",
       "   0,\n",
       "   0,\n",
       "   0,\n",
       "   0,\n",
       "   1,\n",
       "   1,\n",
       "   1,\n",
       "   1,\n",
       "   1,\n",
       "   1,\n",
       "   1,\n",
       "   1,\n",
       "   1,\n",
       "   1,\n",
       "   1,\n",
       "   1,\n",
       "   1,\n",
       "   1,\n",
       "   1,\n",
       "   1,\n",
       "   1,\n",
       "   1,\n",
       "   1,\n",
       "   1,\n",
       "   1,\n",
       "   1,\n",
       "   1,\n",
       "   1,\n",
       "   1,\n",
       "   1,\n",
       "   1,\n",
       "   1,\n",
       "   1,\n",
       "   1,\n",
       "   2,\n",
       "   2,\n",
       "   2,\n",
       "   2,\n",
       "   2,\n",
       "   2,\n",
       "   2,\n",
       "   2,\n",
       "   2,\n",
       "   2,\n",
       "   3,\n",
       "   3,\n",
       "   3,\n",
       "   3,\n",
       "   3,\n",
       "   4,\n",
       "   5,\n",
       "   6,\n",
       "   7,\n",
       "   8],\n",
       "  'casais': [],\n",
       "  'atrs': ['cpu', 'ram', 'hd', 'disponibilidade', 'tempoResposta', 'custo'],\n",
       "  'cpus': ['Intel Core 3'],\n",
       "  'ram': [8, 32, 64, 256],\n",
       "  'hd': {'min': 43, 'max': 701},\n",
       "  'disponibilidade': 52.34,\n",
       "  'tempoResposta': 83.81,\n",
       "  'custo': 298.75,\n",
       "  'modelo': <servico.Servico at 0x7fa288343610>},\n",
       " {'id': 0, 'name': 'Provedor - 0', 'classes': []})"
      ]
     },
     "execution_count": 8,
     "metadata": {},
     "output_type": "execute_result"
    }
   ],
   "source": [
    "ser.__dict__, classe.__dict__, prov.__dict__"
   ]
  },
  {
   "cell_type": "markdown",
   "metadata": {},
   "source": [
    "# Seleção\n",
    "\n",
    "A seleção nada mais é do que a definição de quantidade de serviços que serão geradas, juntamente com as classes (juntamente com suas limitações). "
   ]
  },
  {
   "cell_type": "code",
   "execution_count": 9,
   "metadata": {},
   "outputs": [],
   "source": [
    "qntPrv = 10   # 5 provedores\n",
    "qntClss = 3\n",
    "qntSers = 9 # Cada classe terá 10 servicos"
   ]
  },
  {
   "cell_type": "code",
   "execution_count": 10,
   "metadata": {},
   "outputs": [],
   "source": [
    "def gerarClasseRandom(qntSers:int=10):\n",
    "    return Classe(\n",
    "        categoria=choice(CLASSES),\n",
    "        qntSrvs=qntSers,\n",
    "        cpus=list(set([choice(CPUS) for x in range(randint(1, 5))])),\n",
    "        ram=sorted(list(set([choice(RAMS) for x in range(randint(1, 5))]))),\n",
    "        minHD=randint(1, 100),\n",
    "        maxHD=randint(100, 1000),\n",
    "        disponibilidade=round(uniform(0.0, 100.0), 2),\n",
    "        tempResposta=round(uniform(0, 100.0), 2),\n",
    "        custo=round(uniform(0.0, 1000.0), 2)\n",
    "    )"
   ]
  },
  {
   "cell_type": "code",
   "execution_count": 11,
   "metadata": {},
   "outputs": [],
   "source": [
    "clsSel = [ gerarClasseRandom() for _ in range(qntClss)]"
   ]
  },
  {
   "cell_type": "code",
   "execution_count": 12,
   "metadata": {},
   "outputs": [
    {
     "name": "stdout",
     "output_type": "stream",
     "text": [
      "Categoria: Internet das Coisas\n",
      "Servicos: []\n",
      "CPUs: ['Intel Core 3', 'AMD Ryzen 9', 'Intel Core 5', 'Apple M1']\n",
      "RAM: [4, 8, 64, 128]\n",
      "HD: {'min': 6, 'max': 372}\n",
      "Disponibilidade: 85.22\n",
      "Tempo de Resposta: 59.35\n",
      "Custo: 373.18 \n",
      "\n",
      "\n",
      "Categoria: Memoria\n",
      "Servicos: []\n",
      "CPUs: ['Apple M1']\n",
      "RAM: [4, 64, 256, 512]\n",
      "HD: {'min': 76, 'max': 307}\n",
      "Disponibilidade: 38.21\n",
      "Tempo de Resposta: 32.45\n",
      "Custo: 961.92 \n",
      "\n",
      "\n",
      "Categoria: AI + Machine Learning\n",
      "Servicos: []\n",
      "CPUs: ['AMD Ryzen 7', 'AMD Ryzen 9', 'Apple A14 Bionic']\n",
      "RAM: [2]\n",
      "HD: {'min': 19, 'max': 839}\n",
      "Disponibilidade: 59.09\n",
      "Tempo de Resposta: 91.14\n",
      "Custo: 962.37 \n",
      "\n",
      "\n"
     ]
    }
   ],
   "source": [
    "for i in clsSel: print(i, '\\n\\n')"
   ]
  },
  {
   "cell_type": "markdown",
   "metadata": {},
   "source": [
    "# Gerador"
   ]
  },
  {
   "cell_type": "code",
   "execution_count": 13,
   "metadata": {},
   "outputs": [],
   "source": [
    "def gerar(clsSel:list, qntPrv:int=5, qntSer:int=10):\n",
    "    # Esta Função é apenas para testes.\n",
    "    prvs = [ Provedor() for _ in range(qntPrv) ]\n",
    "    for i in prvs: i.classes = [ copy.deepcopy(x) for x in clsSel ]\n",
    "    for i in prvs:\n",
    "        for j in i.classes:\n",
    "            j.qntSrvs = qntSer\n",
    "    \n",
    "    for i in prvs: #.......... Para cada provedor\n",
    "        for j in i.classes: #. Para cada classe que está no provedor\n",
    "            j.gerar() #....... Gera os servicos da classe\n",
    "    \n",
    "    return prvs"
   ]
  },
  {
   "cell_type": "code",
   "execution_count": 14,
   "metadata": {},
   "outputs": [],
   "source": [
    "prvs = gerar(clsSel, qntPrv, qntSers)"
   ]
  },
  {
   "cell_type": "code",
   "execution_count": 15,
   "metadata": {},
   "outputs": [],
   "source": [
    "prvs[0].classes[0].categoria = \"Teste\""
   ]
  },
  {
   "cell_type": "code",
   "execution_count": 16,
   "metadata": {},
   "outputs": [
    {
     "name": "stdout",
     "output_type": "stream",
     "text": [
      "Categoria: Internet das Coisas\n",
      "Servicos: []\n",
      "CPUs: ['Intel Core 3', 'AMD Ryzen 9', 'Intel Core 5', 'Apple M1']\n",
      "RAM: [4, 8, 64, 128]\n",
      "HD: {'min': 6, 'max': 372}\n",
      "Disponibilidade: 85.22\n",
      "Tempo de Resposta: 59.35\n",
      "Custo: 373.18 \n",
      "\n",
      "\n",
      "Categoria: Memoria\n",
      "Servicos: []\n",
      "CPUs: ['Apple M1']\n",
      "RAM: [4, 64, 256, 512]\n",
      "HD: {'min': 76, 'max': 307}\n",
      "Disponibilidade: 38.21\n",
      "Tempo de Resposta: 32.45\n",
      "Custo: 961.92 \n",
      "\n",
      "\n",
      "Categoria: AI + Machine Learning\n",
      "Servicos: []\n",
      "CPUs: ['AMD Ryzen 7', 'AMD Ryzen 9', 'Apple A14 Bionic']\n",
      "RAM: [2]\n",
      "HD: {'min': 19, 'max': 839}\n",
      "Disponibilidade: 59.09\n",
      "Tempo de Resposta: 91.14\n",
      "Custo: 962.37 \n",
      "\n",
      "\n"
     ]
    }
   ],
   "source": [
    "for x in clsSel:\n",
    "    print(x, '\\n\\n')"
   ]
  },
  {
   "cell_type": "code",
   "execution_count": 17,
   "metadata": {},
   "outputs": [
    {
     "name": "stdout",
     "output_type": "stream",
     "text": [
      "Nome: Service-Internet das Coisas\n",
      "CPU: Intel Core 3\n",
      "RAM: 128\n",
      "HD: 371\n",
      "Disponibilidade: 94.76\n",
      "Tempo de Resposta: 58.72\n",
      "Custo: 103.62\n"
     ]
    }
   ],
   "source": [
    "print(prvs[5].classes[0].servicos[7])"
   ]
  },
  {
   "cell_type": "code",
   "execution_count": null,
   "metadata": {},
   "outputs": [],
   "source": []
  }
 ],
 "metadata": {
  "kernelspec": {
   "display_name": "Python 3",
   "language": "python",
   "name": "python3"
  },
  "language_info": {
   "codemirror_mode": {
    "name": "ipython",
    "version": 3
   },
   "file_extension": ".py",
   "mimetype": "text/x-python",
   "name": "python",
   "nbconvert_exporter": "python",
   "pygments_lexer": "ipython3",
   "version": "3.8.10"
  },
  "orig_nbformat": 4
 },
 "nbformat": 4,
 "nbformat_minor": 2
}
