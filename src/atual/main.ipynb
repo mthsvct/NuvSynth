{
 "cells": [
  {
   "cell_type": "code",
   "execution_count": 1,
   "metadata": {},
   "outputs": [],
   "source": [
    "from provedor import Provedor\n",
    "from classe import Classe\n",
    "from servico import Servico\n",
    "from random import randint, uniform, choice\n",
    "import copy"
   ]
  },
  {
   "cell_type": "markdown",
   "metadata": {},
   "source": [
    "# Informações Importantes"
   ]
  },
  {
   "cell_type": "code",
   "execution_count": 2,
   "metadata": {},
   "outputs": [],
   "source": [
    "CPUS = [\n",
    "    'Intel Core 3', \n",
    "    'Intel Core 5', \n",
    "    'Intel Core 7', \n",
    "    'Intel Core 9', \n",
    "    'AMD Ryzen 5', \n",
    "    'AMD Ryzen 7', \n",
    "    'AMD Ryzen 9', \n",
    "    'Qualcomm Snapdragon', \n",
    "    'Apple A14 Bionic', \n",
    "    'Apple M1', \n",
    "    'AMD Threadripper',\n",
    "    'IBM POWER9' ]"
   ]
  },
  {
   "cell_type": "code",
   "execution_count": 3,
   "metadata": {},
   "outputs": [],
   "source": [
    "CLASSES = [\n",
    "    'Computacao', \n",
    "    'Armazenamento',\n",
    "    'Memoria', \n",
    "    'AI + Machine Learning',\n",
    "    'Segurança', \n",
    "    'Análise de Dados e Estatíticas',\n",
    "    'Internet das Coisas', \n",
    "    'Redes',\n",
    "    'Big Data', \n",
    "    'Mídia' ]"
   ]
  },
  {
   "cell_type": "markdown",
   "metadata": {},
   "source": [
    "# Testes"
   ]
  },
  {
   "cell_type": "code",
   "execution_count": 4,
   "metadata": {},
   "outputs": [
    {
     "name": "stdout",
     "output_type": "stream",
     "text": [
      "Id: 0\n",
      "Nome: Provedor - 0\n",
      "Classes: []\n"
     ]
    }
   ],
   "source": [
    "prov = Provedor()\n",
    "print(prov)"
   ]
  },
  {
   "cell_type": "code",
   "execution_count": 5,
   "metadata": {},
   "outputs": [
    {
     "name": "stdout",
     "output_type": "stream",
     "text": [
      "Categoria: Segurança\n",
      "Servicos: []\n",
      "CPUs: 2\n",
      "RAM: {'min': 8, 'max': 100}\n",
      "HD: {'min': 1000, 'max': 0}\n",
      "Disponibilidade: {'min': 100, 'max': 0}\n",
      "Tempo de Resposta: {'min': 1, 'max': 100}\n",
      "Custo: {'min': 1000, 'max': 100}\n"
     ]
    }
   ],
   "source": [
    "classe = Classe(CLASSES[4], [CPUS[0], CPUS[1], CPUS[2]], 2, 8, 100, 1000, 0, 100, 0, 1, 100, 1000)\n",
    "print(classe)"
   ]
  },
  {
   "cell_type": "code",
   "execution_count": 6,
   "metadata": {},
   "outputs": [
    {
     "name": "stdout",
     "output_type": "stream",
     "text": [
      "Nome: Servico 1\n",
      "CPU: Intel Core 3\n",
      "RAM: 2\n",
      "HD: 8\n",
      "Disponibilidade: 100\n",
      "Tempo de Resposta: 1000\n",
      "Custo: 100\n"
     ]
    }
   ],
   "source": [
    "ser = Servico('Servico 1', CPUS[0], 2, 8, 100, 1000, 100)\n",
    "print(ser)"
   ]
  },
  {
   "cell_type": "code",
   "execution_count": 7,
   "metadata": {},
   "outputs": [
    {
     "data": {
      "text/plain": [
       "({'name': 'Servico 1',\n",
       "  'cpu': 'Intel Core 3',\n",
       "  'ram': 2,\n",
       "  'hd': 8,\n",
       "  'disponibilidade': 100,\n",
       "  'tempoResposta': 1000,\n",
       "  'custo': 100},\n",
       " {'qntSrvs': ['Intel Core 3', 'Intel Core 5', 'Intel Core 7'],\n",
       "  'categoria': 'Segurança',\n",
       "  'servicos': [],\n",
       "  'cpus': 2,\n",
       "  'ram': {'min': 8, 'max': 100},\n",
       "  'hd': {'min': 1000, 'max': 0},\n",
       "  'disponibilidade': {'min': 100, 'max': 0},\n",
       "  'tempoResposta': {'min': 1, 'max': 100},\n",
       "  'custo': {'min': 1000, 'max': 100}},\n",
       " {'id': 0, 'name': 'Provedor - 0', 'classes': []})"
      ]
     },
     "execution_count": 7,
     "metadata": {},
     "output_type": "execute_result"
    }
   ],
   "source": [
    "ser.__dict__, classe.__dict__, prov.__dict__"
   ]
  },
  {
   "cell_type": "markdown",
   "metadata": {},
   "source": [
    "# Seleção\n",
    "\n",
    "A seleção nada mais é do que a definição de quantidade de serviços que serão geradas, juntamente com as classes (juntamente com suas limitações). "
   ]
  },
  {
   "cell_type": "code",
   "execution_count": 8,
   "metadata": {},
   "outputs": [],
   "source": [
    "qntPrv = 5 # 5 provedores\n",
    "qntSers = 10 # Cada classe terá 10 servicos"
   ]
  },
  {
   "cell_type": "code",
   "execution_count": 9,
   "metadata": {},
   "outputs": [],
   "source": [
    "def gerarClasseRandom(qntSers:int=10):\n",
    "    # Esta Função é apenas para testes.\n",
    "    return Classe(\n",
    "        categoria=choice(CLASSES), qntSrvs=randint(1, qntSers),\n",
    "        cpus=list(set([choice(CPUS) for _ in range(randint(1, len(CPUS)))])),\n",
    "        minRAM=randint(1, 16), maxRAM=randint(16, 64),\n",
    "        minHD=randint(100, 1000), maxHD=randint(1000, 10000),\n",
    "        minDisp=uniform(0, 100), maxDisp=uniform(100, 200),\n",
    "        minTempRes=uniform(0, 1), maxTempRes=uniform(1, 2),\n",
    "        minCusto=uniform(100, 1000), maxCusto=uniform(1000, 10000)\n",
    "    )"
   ]
  },
  {
   "cell_type": "code",
   "execution_count": 10,
   "metadata": {},
   "outputs": [],
   "source": [
    "clsSel = [gerarClasseRandom() for _ in range(3)]"
   ]
  },
  {
   "cell_type": "code",
   "execution_count": 11,
   "metadata": {},
   "outputs": [
    {
     "name": "stdout",
     "output_type": "stream",
     "text": [
      "Categoria: Mídia\n",
      "Servicos: []\n",
      "CPUs: ['Apple A14 Bionic', 'Qualcomm Snapdragon', 'AMD Threadripper']\n",
      "RAM: {'min': 2, 'max': 44}\n",
      "HD: {'min': 751, 'max': 1841}\n",
      "Disponibilidade: {'min': 90.99128440502666, 'max': 112.15962131753614}\n",
      "Tempo de Resposta: {'min': 0.9327565098114645, 'max': 1.5305526890135903}\n",
      "Custo: {'min': 796.3985880007516, 'max': 7061.120915132549} \n",
      "\n",
      "\n",
      "Categoria: Segurança\n",
      "Servicos: []\n",
      "CPUs: ['IBM POWER9', 'Apple M1', 'Qualcomm Snapdragon', 'AMD Ryzen 5']\n",
      "RAM: {'min': 14, 'max': 48}\n",
      "HD: {'min': 744, 'max': 7574}\n",
      "Disponibilidade: {'min': 53.654556898788485, 'max': 106.70967605964745}\n",
      "Tempo de Resposta: {'min': 0.6814347029211518, 'max': 1.0056438633703362}\n",
      "Custo: {'min': 739.2594723881261, 'max': 4069.746260066499} \n",
      "\n",
      "\n",
      "Categoria: Mídia\n",
      "Servicos: []\n",
      "CPUs: ['Intel Core 3', 'Qualcomm Snapdragon']\n",
      "RAM: {'min': 2, 'max': 30}\n",
      "HD: {'min': 727, 'max': 3554}\n",
      "Disponibilidade: {'min': 74.88111489864113, 'max': 142.941784985627}\n",
      "Tempo de Resposta: {'min': 0.29258606821587396, 'max': 1.689711791111367}\n",
      "Custo: {'min': 623.1315628809504, 'max': 2520.389691465923} \n",
      "\n",
      "\n"
     ]
    }
   ],
   "source": [
    "for i in clsSel: print(i, '\\n\\n')"
   ]
  },
  {
   "cell_type": "markdown",
   "metadata": {},
   "source": [
    "# Gerador"
   ]
  },
  {
   "cell_type": "code",
   "execution_count": 12,
   "metadata": {},
   "outputs": [],
   "source": [
    "def gerar(clsSel:list, qntPrv:int=5, qntSer:int=10):\n",
    "    # Esta Função é apenas para testes.\n",
    "    prvs = [ Provedor() for _ in range(qntPrv) ]\n",
    "    for i in prvs: i.classes = [ copy.deepcopy(x) for x in clsSel ]\n",
    "    \n",
    "    for i in prvs: # Para cada provedor\n",
    "        for j in i.classes: # Para cada classe que está no provedor\n",
    "            j.gerar() # Gera os servicos da classe\n",
    "    \n",
    "    return prvs"
   ]
  },
  {
   "cell_type": "code",
   "execution_count": 13,
   "metadata": {},
   "outputs": [],
   "source": [
    "prvs = gerar(clsSel, qntPrv, qntSers)"
   ]
  },
  {
   "cell_type": "code",
   "execution_count": 14,
   "metadata": {},
   "outputs": [],
   "source": [
    "prvs[0].classes[0].categoria = \"Teste\""
   ]
  },
  {
   "cell_type": "code",
   "execution_count": 15,
   "metadata": {},
   "outputs": [
    {
     "name": "stdout",
     "output_type": "stream",
     "text": [
      "Categoria: Mídia\n",
      "Servicos: []\n",
      "CPUs: ['Apple A14 Bionic', 'Qualcomm Snapdragon', 'AMD Threadripper']\n",
      "RAM: {'min': 2, 'max': 44}\n",
      "HD: {'min': 751, 'max': 1841}\n",
      "Disponibilidade: {'min': 90.99128440502666, 'max': 112.15962131753614}\n",
      "Tempo de Resposta: {'min': 0.9327565098114645, 'max': 1.5305526890135903}\n",
      "Custo: {'min': 796.3985880007516, 'max': 7061.120915132549} \n",
      "\n",
      "\n",
      "Categoria: Segurança\n",
      "Servicos: []\n",
      "CPUs: ['IBM POWER9', 'Apple M1', 'Qualcomm Snapdragon', 'AMD Ryzen 5']\n",
      "RAM: {'min': 14, 'max': 48}\n",
      "HD: {'min': 744, 'max': 7574}\n",
      "Disponibilidade: {'min': 53.654556898788485, 'max': 106.70967605964745}\n",
      "Tempo de Resposta: {'min': 0.6814347029211518, 'max': 1.0056438633703362}\n",
      "Custo: {'min': 739.2594723881261, 'max': 4069.746260066499} \n",
      "\n",
      "\n",
      "Categoria: Mídia\n",
      "Servicos: []\n",
      "CPUs: ['Intel Core 3', 'Qualcomm Snapdragon']\n",
      "RAM: {'min': 2, 'max': 30}\n",
      "HD: {'min': 727, 'max': 3554}\n",
      "Disponibilidade: {'min': 74.88111489864113, 'max': 142.941784985627}\n",
      "Tempo de Resposta: {'min': 0.29258606821587396, 'max': 1.689711791111367}\n",
      "Custo: {'min': 623.1315628809504, 'max': 2520.389691465923} \n",
      "\n",
      "\n"
     ]
    }
   ],
   "source": [
    "for x in clsSel:\n",
    "    print(x, '\\n\\n')"
   ]
  },
  {
   "cell_type": "code",
   "execution_count": 18,
   "metadata": {},
   "outputs": [],
   "source": [
    "import json"
   ]
  },
  {
   "cell_type": "code",
   "execution_count": 23,
   "metadata": {},
   "outputs": [
    {
     "name": "stdout",
     "output_type": "stream",
     "text": [
      "{\n",
      "    \"categoria\": \"Teste\",\n",
      "    \"servicos\": [\n",
      "        {\n",
      "            \"name\": \"Service-M\\u00eddia-0\",\n",
      "            \"hardware\": {\n",
      "                \"cpu\": \"AMD Threadripper\",\n",
      "                \"ram\": 29,\n",
      "                \"hd\": 1766\n",
      "            },\n",
      "            \"qos\": {\n",
      "                \"disponibilidade\": 95.58231591440308,\n",
      "                \"tempoResposta\": 1.3899268727435197,\n",
      "                \"custo\": 5249.020093899511\n",
      "            }\n",
      "        },\n",
      "        {\n",
      "            \"name\": \"Service-M\\u00eddia-1\",\n",
      "            \"hardware\": {\n",
      "                \"cpu\": \"Qualcomm Snapdragon\",\n",
      "                \"ram\": 24,\n",
      "                \"hd\": 1640\n",
      "            },\n",
      "            \"qos\": {\n",
      "                \"disponibilidade\": 99.95729295128322,\n",
      "                \"tempoResposta\": 1.0146384447430772,\n",
      "                \"custo\": 4910.91310475632\n",
      "            }\n",
      "        },\n",
      "        {\n",
      "            \"name\": \"Service-M\\u00eddia-2\",\n",
      "            \"hardware\": {\n",
      "                \"cpu\": \"Qualcomm Snapdragon\",\n",
      "                \"ram\": 41,\n",
      "                \"hd\": 1029\n",
      "            },\n",
      "            \"qos\": {\n",
      "                \"disponibilidade\": 92.3488734400331,\n",
      "                \"tempoResposta\": 1.3718634799400984,\n",
      "                \"custo\": 1823.518547183185\n",
      "            }\n",
      "        },\n",
      "        {\n",
      "            \"name\": \"Service-M\\u00eddia-3\",\n",
      "            \"hardware\": {\n",
      "                \"cpu\": \"AMD Threadripper\",\n",
      "                \"ram\": 29,\n",
      "                \"hd\": 1055\n",
      "            },\n",
      "            \"qos\": {\n",
      "                \"disponibilidade\": 91.67033813254078,\n",
      "                \"tempoResposta\": 1.37277628019343,\n",
      "                \"custo\": 6386.877902883941\n",
      "            }\n",
      "        },\n",
      "        {\n",
      "            \"name\": \"Service-M\\u00eddia-4\",\n",
      "            \"hardware\": {\n",
      "                \"cpu\": \"Apple A14 Bionic\",\n",
      "                \"ram\": 17,\n",
      "                \"hd\": 1611\n",
      "            },\n",
      "            \"qos\": {\n",
      "                \"disponibilidade\": 97.4750872845015,\n",
      "                \"tempoResposta\": 1.2327137136423827,\n",
      "                \"custo\": 3262.91656319043\n",
      "            }\n",
      "        },\n",
      "        {\n",
      "            \"name\": \"Service-M\\u00eddia-5\",\n",
      "            \"hardware\": {\n",
      "                \"cpu\": \"Qualcomm Snapdragon\",\n",
      "                \"ram\": 28,\n",
      "                \"hd\": 1653\n",
      "            },\n",
      "            \"qos\": {\n",
      "                \"disponibilidade\": 98.00132201144254,\n",
      "                \"tempoResposta\": 1.4439088464102916,\n",
      "                \"custo\": 4580.01154319404\n",
      "            }\n",
      "        }\n",
      "    ],\n",
      "    \"limites\": {\n",
      "        \"cpus\": [\n",
      "            \"Apple A14 Bionic\",\n",
      "            \"Qualcomm Snapdragon\",\n",
      "            \"AMD Threadripper\"\n",
      "        ],\n",
      "        \"ram\": {\n",
      "            \"min\": 2,\n",
      "            \"max\": 44\n",
      "        },\n",
      "        \"hd\": {\n",
      "            \"min\": 751,\n",
      "            \"max\": 1841\n",
      "        },\n",
      "        \"disponibilidade\": {\n",
      "            \"min\": 90.99128440502666,\n",
      "            \"max\": 112.15962131753614\n",
      "        },\n",
      "        \"tempoResposta\": {\n",
      "            \"min\": 0.9327565098114645,\n",
      "            \"max\": 1.5305526890135903\n",
      "        },\n",
      "        \"custo\": {\n",
      "            \"min\": 796.3985880007516,\n",
      "            \"max\": 7061.120915132549\n",
      "        }\n",
      "    }\n",
      "}\n"
     ]
    }
   ],
   "source": [
    "print(json.dumps(prvs[0].classes[0].dicio(), indent=4))"
   ]
  }
 ],
 "metadata": {
  "kernelspec": {
   "display_name": "Python 3",
   "language": "python",
   "name": "python3"
  },
  "language_info": {
   "codemirror_mode": {
    "name": "ipython",
    "version": 3
   },
   "file_extension": ".py",
   "mimetype": "text/x-python",
   "name": "python",
   "nbconvert_exporter": "python",
   "pygments_lexer": "ipython3",
   "version": "3.8.10"
  },
  "orig_nbformat": 4
 },
 "nbformat": 4,
 "nbformat_minor": 2
}
